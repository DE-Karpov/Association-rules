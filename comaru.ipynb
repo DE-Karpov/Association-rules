{
  "nbformat": 4,
  "nbformat_minor": 0,
  "metadata": {
    "colab": {
      "name": "comaru.ipynb",
      "provenance": [],
      "collapsed_sections": [],
      "include_colab_link": true
    },
    "kernelspec": {
      "name": "python3",
      "display_name": "Python 3"
    }
  },
  "cells": [
    {
      "cell_type": "markdown",
      "metadata": {
        "id": "view-in-github",
        "colab_type": "text"
      },
      "source": [
        "<a href=\"https://colab.research.google.com/github/DE-Karpov/comaru/blob/develop/comaru.ipynb\" target=\"_parent\"><img src=\"https://colab.research.google.com/assets/colab-badge.svg\" alt=\"Open In Colab\"/></a>"
      ]
    },
    {
      "cell_type": "code",
      "metadata": {
        "id": "j_Tw1t8feLeV",
        "colab": {
          "base_uri": "https://localhost:8080/"
        },
        "outputId": "fc3343ae-4481-4480-d908-2ffbc7ae88f1"
      },
      "source": [
        "!pip install apyori\n",
        "\n",
        "!pip install pyfpgrowth\n",
        "\n",
        "!pip install  -U mlxtend"
      ],
      "execution_count": 1,
      "outputs": [
        {
          "output_type": "stream",
          "text": [
            "Collecting apyori\n",
            "  Downloading https://files.pythonhosted.org/packages/5e/62/5ffde5c473ea4b033490617ec5caa80d59804875ad3c3c57c0976533a21a/apyori-1.1.2.tar.gz\n",
            "Building wheels for collected packages: apyori\n",
            "  Building wheel for apyori (setup.py) ... \u001b[?25l\u001b[?25hdone\n",
            "  Created wheel for apyori: filename=apyori-1.1.2-cp37-none-any.whl size=5975 sha256=ae40ee4330af650bc0f2d9f970c7162a2112d6e42009062fa7fc5f2a2ecf044d\n",
            "  Stored in directory: /root/.cache/pip/wheels/5d/92/bb/474bbadbc8c0062b9eb168f69982a0443263f8ab1711a8cad0\n",
            "Successfully built apyori\n",
            "Installing collected packages: apyori\n",
            "Successfully installed apyori-1.1.2\n",
            "Collecting pyfpgrowth\n",
            "\u001b[?25l  Downloading https://files.pythonhosted.org/packages/d2/4c/8b7cd90b4118ff0286d6584909b99e1ca5642bdc9072fa5a8dd361c864a0/pyfpgrowth-1.0.tar.gz (1.6MB)\n",
            "\u001b[K     |████████████████████████████████| 1.6MB 12.6MB/s \n",
            "\u001b[?25hBuilding wheels for collected packages: pyfpgrowth\n",
            "  Building wheel for pyfpgrowth (setup.py) ... \u001b[?25l\u001b[?25hdone\n",
            "  Created wheel for pyfpgrowth: filename=pyfpgrowth-1.0-py2.py3-none-any.whl size=5477 sha256=77e279b490ca5cc617741a00238018f0386e628b8bbd7174c85ab747140b55bd\n",
            "  Stored in directory: /root/.cache/pip/wheels/3b/3f/0d/a04bb8b17887c1eca7d0f1a48d4aa0c09c96eb221ff7fa56c1\n",
            "Successfully built pyfpgrowth\n",
            "Installing collected packages: pyfpgrowth\n",
            "Successfully installed pyfpgrowth-1.0\n",
            "Collecting mlxtend\n",
            "\u001b[?25l  Downloading https://files.pythonhosted.org/packages/86/30/781c0b962a70848db83339567ecab656638c62f05adb064cb33c0ae49244/mlxtend-0.18.0-py2.py3-none-any.whl (1.3MB)\n",
            "\u001b[K     |████████████████████████████████| 1.4MB 13.1MB/s \n",
            "\u001b[?25hRequirement already satisfied, skipping upgrade: numpy>=1.16.2 in /usr/local/lib/python3.7/dist-packages (from mlxtend) (1.19.5)\n",
            "Requirement already satisfied, skipping upgrade: scipy>=1.2.1 in /usr/local/lib/python3.7/dist-packages (from mlxtend) (1.4.1)\n",
            "Requirement already satisfied, skipping upgrade: joblib>=0.13.2 in /usr/local/lib/python3.7/dist-packages (from mlxtend) (1.0.1)\n",
            "Requirement already satisfied, skipping upgrade: setuptools in /usr/local/lib/python3.7/dist-packages (from mlxtend) (54.0.0)\n",
            "Requirement already satisfied, skipping upgrade: matplotlib>=3.0.0 in /usr/local/lib/python3.7/dist-packages (from mlxtend) (3.2.2)\n",
            "Requirement already satisfied, skipping upgrade: scikit-learn>=0.20.3 in /usr/local/lib/python3.7/dist-packages (from mlxtend) (0.22.2.post1)\n",
            "Requirement already satisfied, skipping upgrade: pandas>=0.24.2 in /usr/local/lib/python3.7/dist-packages (from mlxtend) (1.1.5)\n",
            "Requirement already satisfied, skipping upgrade: kiwisolver>=1.0.1 in /usr/local/lib/python3.7/dist-packages (from matplotlib>=3.0.0->mlxtend) (1.3.1)\n",
            "Requirement already satisfied, skipping upgrade: pyparsing!=2.0.4,!=2.1.2,!=2.1.6,>=2.0.1 in /usr/local/lib/python3.7/dist-packages (from matplotlib>=3.0.0->mlxtend) (2.4.7)\n",
            "Requirement already satisfied, skipping upgrade: python-dateutil>=2.1 in /usr/local/lib/python3.7/dist-packages (from matplotlib>=3.0.0->mlxtend) (2.8.1)\n",
            "Requirement already satisfied, skipping upgrade: cycler>=0.10 in /usr/local/lib/python3.7/dist-packages (from matplotlib>=3.0.0->mlxtend) (0.10.0)\n",
            "Requirement already satisfied, skipping upgrade: pytz>=2017.2 in /usr/local/lib/python3.7/dist-packages (from pandas>=0.24.2->mlxtend) (2018.9)\n",
            "Requirement already satisfied, skipping upgrade: six>=1.5 in /usr/local/lib/python3.7/dist-packages (from python-dateutil>=2.1->matplotlib>=3.0.0->mlxtend) (1.15.0)\n",
            "Installing collected packages: mlxtend\n",
            "  Found existing installation: mlxtend 0.14.0\n",
            "    Uninstalling mlxtend-0.14.0:\n",
            "      Successfully uninstalled mlxtend-0.14.0\n",
            "Successfully installed mlxtend-0.18.0\n"
          ],
          "name": "stdout"
        }
      ]
    },
    {
      "cell_type": "code",
      "metadata": {
        "id": "yFOju6zmrc3k"
      },
      "source": [
        "from apyori import apriori\n",
        "from google.colab import files\n",
        "from mlxtend.preprocessing import TransactionEncoder\n",
        "from mlxtend.frequent_patterns import apriori as mapriori\n",
        "from mlxtend.frequent_patterns import fpgrowth \n",
        "from mlxtend.frequent_patterns import fpmax \n",
        "from mlxtend.frequent_patterns import association_rules \n",
        "import pyfpgrowth\n",
        "import pandas as pd\n",
        "import matplotlib.pyplot as plt\n",
        "import numpy as np\n",
        "import time"
      ],
      "execution_count": 2,
      "outputs": []
    },
    {
      "cell_type": "code",
      "metadata": {
        "id": "yPbN_fTPsFNd",
        "colab": {
          "resources": {
            "http://localhost:8080/nbextensions/google.colab/files.js": {
              "data": "Ly8gQ29weXJpZ2h0IDIwMTcgR29vZ2xlIExMQwovLwovLyBMaWNlbnNlZCB1bmRlciB0aGUgQXBhY2hlIExpY2Vuc2UsIFZlcnNpb24gMi4wICh0aGUgIkxpY2Vuc2UiKTsKLy8geW91IG1heSBub3QgdXNlIHRoaXMgZmlsZSBleGNlcHQgaW4gY29tcGxpYW5jZSB3aXRoIHRoZSBMaWNlbnNlLgovLyBZb3UgbWF5IG9idGFpbiBhIGNvcHkgb2YgdGhlIExpY2Vuc2UgYXQKLy8KLy8gICAgICBodHRwOi8vd3d3LmFwYWNoZS5vcmcvbGljZW5zZXMvTElDRU5TRS0yLjAKLy8KLy8gVW5sZXNzIHJlcXVpcmVkIGJ5IGFwcGxpY2FibGUgbGF3IG9yIGFncmVlZCB0byBpbiB3cml0aW5nLCBzb2Z0d2FyZQovLyBkaXN0cmlidXRlZCB1bmRlciB0aGUgTGljZW5zZSBpcyBkaXN0cmlidXRlZCBvbiBhbiAiQVMgSVMiIEJBU0lTLAovLyBXSVRIT1VUIFdBUlJBTlRJRVMgT1IgQ09ORElUSU9OUyBPRiBBTlkgS0lORCwgZWl0aGVyIGV4cHJlc3Mgb3IgaW1wbGllZC4KLy8gU2VlIHRoZSBMaWNlbnNlIGZvciB0aGUgc3BlY2lmaWMgbGFuZ3VhZ2UgZ292ZXJuaW5nIHBlcm1pc3Npb25zIGFuZAovLyBsaW1pdGF0aW9ucyB1bmRlciB0aGUgTGljZW5zZS4KCi8qKgogKiBAZmlsZW92ZXJ2aWV3IEhlbHBlcnMgZm9yIGdvb2dsZS5jb2xhYiBQeXRob24gbW9kdWxlLgogKi8KKGZ1bmN0aW9uKHNjb3BlKSB7CmZ1bmN0aW9uIHNwYW4odGV4dCwgc3R5bGVBdHRyaWJ1dGVzID0ge30pIHsKICBjb25zdCBlbGVtZW50ID0gZG9jdW1lbnQuY3JlYXRlRWxlbWVudCgnc3BhbicpOwogIGVsZW1lbnQudGV4dENvbnRlbnQgPSB0ZXh0OwogIGZvciAoY29uc3Qga2V5IG9mIE9iamVjdC5rZXlzKHN0eWxlQXR0cmlidXRlcykpIHsKICAgIGVsZW1lbnQuc3R5bGVba2V5XSA9IHN0eWxlQXR0cmlidXRlc1trZXldOwogIH0KICByZXR1cm4gZWxlbWVudDsKfQoKLy8gTWF4IG51bWJlciBvZiBieXRlcyB3aGljaCB3aWxsIGJlIHVwbG9hZGVkIGF0IGEgdGltZS4KY29uc3QgTUFYX1BBWUxPQURfU0laRSA9IDEwMCAqIDEwMjQ7CgpmdW5jdGlvbiBfdXBsb2FkRmlsZXMoaW5wdXRJZCwgb3V0cHV0SWQpIHsKICBjb25zdCBzdGVwcyA9IHVwbG9hZEZpbGVzU3RlcChpbnB1dElkLCBvdXRwdXRJZCk7CiAgY29uc3Qgb3V0cHV0RWxlbWVudCA9IGRvY3VtZW50LmdldEVsZW1lbnRCeUlkKG91dHB1dElkKTsKICAvLyBDYWNoZSBzdGVwcyBvbiB0aGUgb3V0cHV0RWxlbWVudCB0byBtYWtlIGl0IGF2YWlsYWJsZSBmb3IgdGhlIG5leHQgY2FsbAogIC8vIHRvIHVwbG9hZEZpbGVzQ29udGludWUgZnJvbSBQeXRob24uCiAgb3V0cHV0RWxlbWVudC5zdGVwcyA9IHN0ZXBzOwoKICByZXR1cm4gX3VwbG9hZEZpbGVzQ29udGludWUob3V0cHV0SWQpOwp9CgovLyBUaGlzIGlzIHJvdWdobHkgYW4gYXN5bmMgZ2VuZXJhdG9yIChub3Qgc3VwcG9ydGVkIGluIHRoZSBicm93c2VyIHlldCksCi8vIHdoZXJlIHRoZXJlIGFyZSBtdWx0aXBsZSBhc3luY2hyb25vdXMgc3RlcHMgYW5kIHRoZSBQeXRob24gc2lkZSBpcyBnb2luZwovLyB0byBwb2xsIGZvciBjb21wbGV0aW9uIG9mIGVhY2ggc3RlcC4KLy8gVGhpcyB1c2VzIGEgUHJvbWlzZSB0byBibG9jayB0aGUgcHl0aG9uIHNpZGUgb24gY29tcGxldGlvbiBvZiBlYWNoIHN0ZXAsCi8vIHRoZW4gcGFzc2VzIHRoZSByZXN1bHQgb2YgdGhlIHByZXZpb3VzIHN0ZXAgYXMgdGhlIGlucHV0IHRvIHRoZSBuZXh0IHN0ZXAuCmZ1bmN0aW9uIF91cGxvYWRGaWxlc0NvbnRpbnVlKG91dHB1dElkKSB7CiAgY29uc3Qgb3V0cHV0RWxlbWVudCA9IGRvY3VtZW50LmdldEVsZW1lbnRCeUlkKG91dHB1dElkKTsKICBjb25zdCBzdGVwcyA9IG91dHB1dEVsZW1lbnQuc3RlcHM7CgogIGNvbnN0IG5leHQgPSBzdGVwcy5uZXh0KG91dHB1dEVsZW1lbnQubGFzdFByb21pc2VWYWx1ZSk7CiAgcmV0dXJuIFByb21pc2UucmVzb2x2ZShuZXh0LnZhbHVlLnByb21pc2UpLnRoZW4oKHZhbHVlKSA9PiB7CiAgICAvLyBDYWNoZSB0aGUgbGFzdCBwcm9taXNlIHZhbHVlIHRvIG1ha2UgaXQgYXZhaWxhYmxlIHRvIHRoZSBuZXh0CiAgICAvLyBzdGVwIG9mIHRoZSBnZW5lcmF0b3IuCiAgICBvdXRwdXRFbGVtZW50Lmxhc3RQcm9taXNlVmFsdWUgPSB2YWx1ZTsKICAgIHJldHVybiBuZXh0LnZhbHVlLnJlc3BvbnNlOwogIH0pOwp9CgovKioKICogR2VuZXJhdG9yIGZ1bmN0aW9uIHdoaWNoIGlzIGNhbGxlZCBiZXR3ZWVuIGVhY2ggYXN5bmMgc3RlcCBvZiB0aGUgdXBsb2FkCiAqIHByb2Nlc3MuCiAqIEBwYXJhbSB7c3RyaW5nfSBpbnB1dElkIEVsZW1lbnQgSUQgb2YgdGhlIGlucHV0IGZpbGUgcGlja2VyIGVsZW1lbnQuCiAqIEBwYXJhbSB7c3RyaW5nfSBvdXRwdXRJZCBFbGVtZW50IElEIG9mIHRoZSBvdXRwdXQgZGlzcGxheS4KICogQHJldHVybiB7IUl0ZXJhYmxlPCFPYmplY3Q+fSBJdGVyYWJsZSBvZiBuZXh0IHN0ZXBzLgogKi8KZnVuY3Rpb24qIHVwbG9hZEZpbGVzU3RlcChpbnB1dElkLCBvdXRwdXRJZCkgewogIGNvbnN0IGlucHV0RWxlbWVudCA9IGRvY3VtZW50LmdldEVsZW1lbnRCeUlkKGlucHV0SWQpOwogIGlucHV0RWxlbWVudC5kaXNhYmxlZCA9IGZhbHNlOwoKICBjb25zdCBvdXRwdXRFbGVtZW50ID0gZG9jdW1lbnQuZ2V0RWxlbWVudEJ5SWQob3V0cHV0SWQpOwogIG91dHB1dEVsZW1lbnQuaW5uZXJIVE1MID0gJyc7CgogIGNvbnN0IHBpY2tlZFByb21pc2UgPSBuZXcgUHJvbWlzZSgocmVzb2x2ZSkgPT4gewogICAgaW5wdXRFbGVtZW50LmFkZEV2ZW50TGlzdGVuZXIoJ2NoYW5nZScsIChlKSA9PiB7CiAgICAgIHJlc29sdmUoZS50YXJnZXQuZmlsZXMpOwogICAgfSk7CiAgfSk7CgogIGNvbnN0IGNhbmNlbCA9IGRvY3VtZW50LmNyZWF0ZUVsZW1lbnQoJ2J1dHRvbicpOwogIGlucHV0RWxlbWVudC5wYXJlbnRFbGVtZW50LmFwcGVuZENoaWxkKGNhbmNlbCk7CiAgY2FuY2VsLnRleHRDb250ZW50ID0gJ0NhbmNlbCB1cGxvYWQnOwogIGNvbnN0IGNhbmNlbFByb21pc2UgPSBuZXcgUHJvbWlzZSgocmVzb2x2ZSkgPT4gewogICAgY2FuY2VsLm9uY2xpY2sgPSAoKSA9PiB7CiAgICAgIHJlc29sdmUobnVsbCk7CiAgICB9OwogIH0pOwoKICAvLyBXYWl0IGZvciB0aGUgdXNlciB0byBwaWNrIHRoZSBmaWxlcy4KICBjb25zdCBmaWxlcyA9IHlpZWxkIHsKICAgIHByb21pc2U6IFByb21pc2UucmFjZShbcGlja2VkUHJvbWlzZSwgY2FuY2VsUHJvbWlzZV0pLAogICAgcmVzcG9uc2U6IHsKICAgICAgYWN0aW9uOiAnc3RhcnRpbmcnLAogICAgfQogIH07CgogIGNhbmNlbC5yZW1vdmUoKTsKCiAgLy8gRGlzYWJsZSB0aGUgaW5wdXQgZWxlbWVudCBzaW5jZSBmdXJ0aGVyIHBpY2tzIGFyZSBub3QgYWxsb3dlZC4KICBpbnB1dEVsZW1lbnQuZGlzYWJsZWQgPSB0cnVlOwoKICBpZiAoIWZpbGVzKSB7CiAgICByZXR1cm4gewogICAgICByZXNwb25zZTogewogICAgICAgIGFjdGlvbjogJ2NvbXBsZXRlJywKICAgICAgfQogICAgfTsKICB9CgogIGZvciAoY29uc3QgZmlsZSBvZiBmaWxlcykgewogICAgY29uc3QgbGkgPSBkb2N1bWVudC5jcmVhdGVFbGVtZW50KCdsaScpOwogICAgbGkuYXBwZW5kKHNwYW4oZmlsZS5uYW1lLCB7Zm9udFdlaWdodDogJ2JvbGQnfSkpOwogICAgbGkuYXBwZW5kKHNwYW4oCiAgICAgICAgYCgke2ZpbGUudHlwZSB8fCAnbi9hJ30pIC0gJHtmaWxlLnNpemV9IGJ5dGVzLCBgICsKICAgICAgICBgbGFzdCBtb2RpZmllZDogJHsKICAgICAgICAgICAgZmlsZS5sYXN0TW9kaWZpZWREYXRlID8gZmlsZS5sYXN0TW9kaWZpZWREYXRlLnRvTG9jYWxlRGF0ZVN0cmluZygpIDoKICAgICAgICAgICAgICAgICAgICAgICAgICAgICAgICAgICAgJ24vYSd9IC0gYCkpOwogICAgY29uc3QgcGVyY2VudCA9IHNwYW4oJzAlIGRvbmUnKTsKICAgIGxpLmFwcGVuZENoaWxkKHBlcmNlbnQpOwoKICAgIG91dHB1dEVsZW1lbnQuYXBwZW5kQ2hpbGQobGkpOwoKICAgIGNvbnN0IGZpbGVEYXRhUHJvbWlzZSA9IG5ldyBQcm9taXNlKChyZXNvbHZlKSA9PiB7CiAgICAgIGNvbnN0IHJlYWRlciA9IG5ldyBGaWxlUmVhZGVyKCk7CiAgICAgIHJlYWRlci5vbmxvYWQgPSAoZSkgPT4gewogICAgICAgIHJlc29sdmUoZS50YXJnZXQucmVzdWx0KTsKICAgICAgfTsKICAgICAgcmVhZGVyLnJlYWRBc0FycmF5QnVmZmVyKGZpbGUpOwogICAgfSk7CiAgICAvLyBXYWl0IGZvciB0aGUgZGF0YSB0byBiZSByZWFkeS4KICAgIGxldCBmaWxlRGF0YSA9IHlpZWxkIHsKICAgICAgcHJvbWlzZTogZmlsZURhdGFQcm9taXNlLAogICAgICByZXNwb25zZTogewogICAgICAgIGFjdGlvbjogJ2NvbnRpbnVlJywKICAgICAgfQogICAgfTsKCiAgICAvLyBVc2UgYSBjaHVua2VkIHNlbmRpbmcgdG8gYXZvaWQgbWVzc2FnZSBzaXplIGxpbWl0cy4gU2VlIGIvNjIxMTU2NjAuCiAgICBsZXQgcG9zaXRpb24gPSAwOwogICAgd2hpbGUgKHBvc2l0aW9uIDwgZmlsZURhdGEuYnl0ZUxlbmd0aCkgewogICAgICBjb25zdCBsZW5ndGggPSBNYXRoLm1pbihmaWxlRGF0YS5ieXRlTGVuZ3RoIC0gcG9zaXRpb24sIE1BWF9QQVlMT0FEX1NJWkUpOwogICAgICBjb25zdCBjaHVuayA9IG5ldyBVaW50OEFycmF5KGZpbGVEYXRhLCBwb3NpdGlvbiwgbGVuZ3RoKTsKICAgICAgcG9zaXRpb24gKz0gbGVuZ3RoOwoKICAgICAgY29uc3QgYmFzZTY0ID0gYnRvYShTdHJpbmcuZnJvbUNoYXJDb2RlLmFwcGx5KG51bGwsIGNodW5rKSk7CiAgICAgIHlpZWxkIHsKICAgICAgICByZXNwb25zZTogewogICAgICAgICAgYWN0aW9uOiAnYXBwZW5kJywKICAgICAgICAgIGZpbGU6IGZpbGUubmFtZSwKICAgICAgICAgIGRhdGE6IGJhc2U2NCwKICAgICAgICB9LAogICAgICB9OwogICAgICBwZXJjZW50LnRleHRDb250ZW50ID0KICAgICAgICAgIGAke01hdGgucm91bmQoKHBvc2l0aW9uIC8gZmlsZURhdGEuYnl0ZUxlbmd0aCkgKiAxMDApfSUgZG9uZWA7CiAgICB9CiAgfQoKICAvLyBBbGwgZG9uZS4KICB5aWVsZCB7CiAgICByZXNwb25zZTogewogICAgICBhY3Rpb246ICdjb21wbGV0ZScsCiAgICB9CiAgfTsKfQoKc2NvcGUuZ29vZ2xlID0gc2NvcGUuZ29vZ2xlIHx8IHt9OwpzY29wZS5nb29nbGUuY29sYWIgPSBzY29wZS5nb29nbGUuY29sYWIgfHwge307CnNjb3BlLmdvb2dsZS5jb2xhYi5fZmlsZXMgPSB7CiAgX3VwbG9hZEZpbGVzLAogIF91cGxvYWRGaWxlc0NvbnRpbnVlLAp9Owp9KShzZWxmKTsK",
              "ok": true,
              "headers": [
                [
                  "content-type",
                  "application/javascript"
                ]
              ],
              "status": 200,
              "status_text": ""
            }
          },
          "base_uri": "https://localhost:8080/",
          "height": 72
        },
        "outputId": "bfa8be0d-429a-4da2-8cd5-1d5ca8294bfe"
      },
      "source": [
        "uploaded = files.upload()"
      ],
      "execution_count": 3,
      "outputs": [
        {
          "output_type": "display_data",
          "data": {
            "text/html": [
              "\n",
              "     <input type=\"file\" id=\"files-b0d45eea-6fa9-4812-a8fd-7c17a346622d\" name=\"files[]\" multiple disabled\n",
              "        style=\"border:none\" />\n",
              "     <output id=\"result-b0d45eea-6fa9-4812-a8fd-7c17a346622d\">\n",
              "      Upload widget is only available when the cell has been executed in the\n",
              "      current browser session. Please rerun this cell to enable.\n",
              "      </output>\n",
              "      <script src=\"/nbextensions/google.colab/files.js\"></script> "
            ],
            "text/plain": [
              "<IPython.core.display.HTML object>"
            ]
          },
          "metadata": {
            "tags": []
          }
        },
        {
          "output_type": "stream",
          "text": [
            "Saving retail_dataset.csv to retail_dataset.csv\n"
          ],
          "name": "stdout"
        }
      ]
    },
    {
      "cell_type": "code",
      "metadata": {
        "id": "JCFjFGqCrqce"
      },
      "source": [
        "class AssocRules:\n",
        "\n",
        "    def __init__(self):\n",
        "        self.dataset = pd.read_csv(\"retail_dataset.csv\")\n",
        "        self.transactions = []\n",
        "        self.fill_transactions()\n",
        "\n",
        "    def fill_transactions(self):\n",
        "        for i in range(0, 315): \n",
        "            self.transactions.append([str(self.dataset.values[i,j]) for j in range(0, 6) if not pd.isnull(self.dataset.values[i,j])])    \n",
        "\n",
        "    class Eclat:\n",
        "\n",
        "        def __init__(self, min_support = 0.01, max_items = 5, min_items = 2):\n",
        "            self.min_support = min_support\n",
        "            self.max_items = max_items\n",
        "            self.min_items = min_items\n",
        "            self.item_lst = list()\n",
        "            self.item_len = 0\n",
        "            self.item_dict = dict()\n",
        "            self.final_dict = dict()\n",
        "            self.data_size = 0\n",
        "        \n",
        "        def read_data(self, dataset):\n",
        "            for index, row in dataset.iterrows():\n",
        "                row_wo_na = set(row)\n",
        "                for item in row_wo_na:\n",
        "                    if pd.isnull(item):\n",
        "                        continue\n",
        "                    else:\n",
        "                        item = item.strip()\n",
        "                    if item in self.item_dict:\n",
        "                        self.item_dict[item][0] += 1\n",
        "                    else:\n",
        "                        self.item_dict.setdefault(item, []).append(1)\n",
        "                    self.item_dict[item].append(index)\n",
        "\n",
        "            self.data_size = dataset.shape[0]\n",
        "            self.item_lst = list(self.item_dict.keys())\n",
        "            self.item_len = len(self.item_lst)\n",
        "            self.min_support = self.min_support * self.data_size\n",
        "            \n",
        "        def recur_eclat(self, item_name, tids_array, minsupp, num_items, k_start):\n",
        "            if tids_array[0] >= minsupp and num_items <= self.max_items:\n",
        "                for k in range(k_start+1, self.item_len):\n",
        "                    if self.item_dict[self.item_lst[k]][0] >= minsupp:\n",
        "                        new_item = item_name + \"|\" + self.item_lst[k]\n",
        "                        new_tids = np.intersect1d(tids_array[1:], self.item_dict[self.item_lst[k]][1:])\n",
        "                        new_tids_size = new_tids.size\n",
        "                        new_tids = np.insert(new_tids, 0, new_tids_size)\n",
        "                        if new_tids_size >= minsupp:\n",
        "                            if num_items >= self.min_items: self.final_dict.update({new_item: new_tids})\n",
        "                            self.recur_eclat(new_item, new_tids, minsupp, num_items+1, k)\n",
        "        \n",
        "        def fit(self, dataset):\n",
        "            i = 0\n",
        "            self.read_data(dataset)\n",
        "            for w in self.item_lst:\n",
        "                self.recur_eclat(w, self.item_dict[w], self.min_support, 2, i)\n",
        "                i+=1\n",
        "            return self\n",
        "            \n",
        "        def transform(self):\n",
        "            return [k[0].split(\"|\") for k in self.final_dict.items()]\n",
        "\n",
        "\n",
        "    def get_apriori(self, params):\n",
        "      rules = list(apriori(self.transactions, min_support = params[\"min_support\"], min_confidence = params[\"min_confidence\"], min_lift = params[\"min_lift\"], max_length = params[\"max_length\"]))\n",
        "      list_of_rules = [list(record.items) for record in rules]\n",
        "      return list_of_rules\n",
        "\n",
        "    def get_eclat(self, params):\n",
        "      model = AssocRules.Eclat(min_support = params[\"min_support\"], max_items = params[\"max_length\"], min_items = 1)\n",
        "      model.fit(self.dataset)\n",
        "      return model.transform()\n",
        "\n",
        "    def get_fpgrowth(self, params):\n",
        "      support_threshold = int(len(self.transactions) * params['min_support'])\n",
        "      patterns = pyfpgrowth.find_frequent_patterns(self.transactions, support_threshold)\n",
        "      new_patterns = {k: v for k, v in patterns.items() if not ((\"nan\") in k)}\n",
        "      unprepared_list = list(pyfpgrowth.generate_association_rules(new_patterns, params[\"min_confidence\"]))\n",
        "      prepared_list = [list(item) for item in unprepared_list if len(item) == 2 ]\n",
        "      return prepared_list\n",
        "\n",
        "    def user_input_features(self):\n",
        "      min_support = st.sidebar.slider(\"Minimal support\", 0.01, 0.03, 0.001)\n",
        "      min_confidence = st.sidebar.slider(\"Min confidence\", 0.2, 0.6, 0.1)\n",
        "      min_lift = st.sidebar.slider(\"Lift\", 0.5, 6.0, 1.0)\n",
        "      min_length = st.sidebar.slider(\"Min length\", 1, 2, 3)\n",
        "      data = {\"min_support\": min_support,\n",
        "              \"min_confidence\": min_confidence,\n",
        "              \"min_lift\": min_lift,\n",
        "              \"min_length\": min_length}\n",
        "      features = pd.DataFrame(data, index=[0])\n",
        "      return features"
      ],
      "execution_count": 4,
      "outputs": []
    },
    {
      "cell_type": "code",
      "metadata": {
        "id": "u0buZAP5-VQ-",
        "colab": {
          "base_uri": "https://localhost:8080/",
          "height": 608
        },
        "outputId": "31260d32-60e5-4e00-b0d7-64ea97f56ea6"
      },
      "source": [
        "rules = AssocRules()\n",
        "\n",
        "confidence = [0.1,0.2,0.3,0.4,0.5,0.6,0.7,0.8,0.9]\n",
        "\n",
        "def gen_rules(min_support, min_lift = 2.0, max_length = None, alg = 'apriori'):\n",
        "    ap = {}\n",
        "    common_rules = []\n",
        "    if alg == 'apriori':\n",
        "      for i in confidence:\n",
        "        parameters = {\"min_support\" : min_support, \"min_confidence\" : i, \"min_lift\" : min_lift, \"max_length\" : max_length}\n",
        "        apriori_rules = rules.get_apriori(parameters)\n",
        "        ap[i] = len(apriori_rules)\n",
        "        common_rules.append(apriori_rules)\n",
        "    elif alg == 'fpgrowth':\n",
        "      for i in confidence:\n",
        "        parameters = {\"min_support\" : min_support, \"min_confidence\" : i}\n",
        "        fpgrowth_rules = rules.get_fpgrowth(parameters)\n",
        "        ap[i] = len(fpgrowth_rules)\n",
        "        common_rules.append(fpgrowth_rules)\n",
        "    return pd.Series(ap).to_frame(\"Support: %s\"%min_support), common_rules\n",
        "\n",
        "apriori_plot = []\n",
        "fpgrowth_plot = []\n",
        "common_rules_plot = []\n",
        "for i in [0.005,0.01,0.05,0.1]:\n",
        "    apriori_alg = gen_rules(min_support = i)\n",
        "    fpgrowth_alg = gen_rules(min_support = i, alg='fpgrowth')\n",
        "    apriori_plot.append(apriori_alg[0])\n",
        "    fpgrowth_plot.append(fpgrowth_alg[0])\n",
        "\n",
        "apriori_all_conf = pd.concat(apriori_plot, axis=1)\n",
        "fpgrowth_all_conf = pd.concat(fpgrowth_plot, axis=1)\n",
        "\n",
        "fig, (ax1, ax2) = plt.subplots(1, 2, figsize = (16, 8))\n",
        "fig.suptitle('Association rules')\n",
        "ax1.set_title('Apriori')\n",
        "ax2.set_title('FPGrowth')\n",
        "ax1.plot(apriori_all_conf)\n",
        "ax2.plot(fpgrowth_all_conf)"
      ],
      "execution_count": 5,
      "outputs": [
        {
          "output_type": "execute_result",
          "data": {
            "text/plain": [
              "[<matplotlib.lines.Line2D at 0x7f74d86a1490>,\n",
              " <matplotlib.lines.Line2D at 0x7f74d85fd050>,\n",
              " <matplotlib.lines.Line2D at 0x7f74d86a2c90>,\n",
              " <matplotlib.lines.Line2D at 0x7f74d86a2e10>]"
            ]
          },
          "metadata": {
            "tags": []
          },
          "execution_count": 5
        },
        {
          "output_type": "display_data",
          "data": {
            "image/png": "[encoded data removed]",
            "text/plain": [
              "<Figure size 1152x576 with 2 Axes>"
            ]
          },
          "metadata": {
            "tags": [],
            "needs_background": "light"
          }
        }
      ]
    },
    {
      "cell_type": "code",
      "metadata": {
        "id": "DPiN50B5YCLS"
      },
      "source": [
        "def createOneHotVec(df):\n",
        "  items = (df['0'].unique())\n",
        "  itemset = set(items)\n",
        "  encoded_vals = []\n",
        "  for index, row in df.iterrows():\n",
        "      rowset = set(row) \n",
        "      labels = {}\n",
        "      uncommons = list(itemset - rowset)\n",
        "      commons = list(itemset.intersection(rowset))\n",
        "      for uc in uncommons:\n",
        "          labels[uc] = 0\n",
        "      for com in commons:\n",
        "          labels[com] = 1\n",
        "      encoded_vals.append(labels)\n",
        "  encoded_vals[0]\n",
        "  ohe_df = pd.DataFrame(encoded_vals)\n",
        "  return ohe_df"
      ],
      "execution_count": 6,
      "outputs": []
    },
    {
      "cell_type": "code",
      "metadata": {
        "id": "-8Mz5GALYCcy"
      },
      "source": [
        "def getAprioriRules(df):\n",
        "  ohe_df = createOneHotVec(df)\n",
        "  freq_items = mapriori(ohe_df, min_support = 0.1, use_colnames = True)\n",
        "  assoc_rules = association_rules(freq_items, metric = \"confidence\", min_threshold = 0.1)\n",
        "  return assoc_rules"
      ],
      "execution_count": 7,
      "outputs": []
    },
    {
      "cell_type": "code",
      "metadata": {
        "id": "MHK7rEYqcgCW"
      },
      "source": [
        "def getFPGrowthRules(df):\n",
        "  ohe_df = createOneHotVec(df)\n",
        "  freq_items = fpgrowth(ohe_df, min_support = 0.1, use_colnames = True, verbose = 1)\n",
        "  assoc_rules = association_rules(freq_items, metric = \"confidence\", min_threshold = 0.1)\n",
        "  return assoc_rules"
      ],
      "execution_count": 8,
      "outputs": []
    },
    {
      "cell_type": "code",
      "metadata": {
        "id": "kXpC8jLicgPd"
      },
      "source": [
        "def getFPMaxRules(df):\n",
        "  ohe_df = createOneHotVec(df)\n",
        "  freq_items = fpmax(ohe_df, min_support = 0.1, use_colnames = True, verbose = 1)\n",
        "  assoc_rules = association_rules(freq_items, metric = \"confidence\", min_threshold = 0.1, support_only = True)\n",
        "  return assoc_rules"
      ],
      "execution_count": 9,
      "outputs": []
    },
    {
      "cell_type": "code",
      "metadata": {
        "id": "YcS4O90ECbYR"
      },
      "source": [
        "def getECLATRules(df):\n",
        "  ohe_df = createOneHotVec(df)\n",
        "  parameters = {\"min_support\" : 0.1, \"max_length\" : 3}\n",
        "  assoc_rules = rules.get_eclat(params = parameters)\n",
        "  return assoc_rules"
      ],
      "execution_count": 10,
      "outputs": []
    },
    {
      "cell_type": "code",
      "metadata": {
        "id": "7ySWloWlgPA5"
      },
      "source": [
        "new_rules = rules.dataset"
      ],
      "execution_count": 11,
      "outputs": []
    },
    {
      "cell_type": "code",
      "metadata": {
        "id": "yOlNbw5DhTBj",
        "colab": {
          "base_uri": "https://localhost:8080/"
        },
        "outputId": "09667f27-b345-4ebe-852c-d3d22fb49330"
      },
      "source": [
        "t0 = time.clock()\n",
        "getAprioriRules(new_rules)\n",
        "t1 = time.clock() - t0\n",
        "print(\"Apriori time: \", t1) # CPU seconds elapsed (floating point)"
      ],
      "execution_count": 12,
      "outputs": [
        {
          "output_type": "stream",
          "text": [
            "Apriori time:  0.07482999999999951\n"
          ],
          "name": "stdout"
        },
        {
          "output_type": "stream",
          "text": [
            "/usr/local/lib/python3.7/dist-packages/ipykernel_launcher.py:1: DeprecationWarning: time.clock has been deprecated in Python 3.3 and will be removed from Python 3.8: use time.perf_counter or time.process_time instead\n",
            "  \"\"\"Entry point for launching an IPython kernel.\n",
            "/usr/local/lib/python3.7/dist-packages/ipykernel_launcher.py:3: DeprecationWarning: time.clock has been deprecated in Python 3.3 and will be removed from Python 3.8: use time.perf_counter or time.process_time instead\n",
            "  This is separate from the ipykernel package so we can avoid doing imports until\n"
          ],
          "name": "stderr"
        }
      ]
    },
    {
      "cell_type": "code",
      "metadata": {
        "id": "KkQkz3ERhiV1",
        "colab": {
          "base_uri": "https://localhost:8080/"
        },
        "outputId": "5427e23a-7fe1-4d04-cf83-65b7dae5891d"
      },
      "source": [
        "t0 = time.clock()\n",
        "getFPGrowthRules(new_rules)\n",
        "t1 = time.clock() - t0\n",
        "print(\"FPGrowth time: \", t1) # CPU seconds elapsed (floating point)"
      ],
      "execution_count": 13,
      "outputs": [
        {
          "output_type": "stream",
          "text": [
            "\r9 itemset(s) from tree conditioned on items ()\n",
            "\r0 itemset(s) from tree conditioned on items (Bread)\n",
            "\r1 itemset(s) from tree conditioned on items (Cheese)\n",
            "\r3 itemset(s) from tree conditioned on items (Meat)\n",
            "\r0 itemset(s) from tree conditioned on items (Meat, Cheese)\n",
            "\r2 itemset(s) from tree conditioned on items (Meat, Bread)\n",
            "\r0 itemset(s) from tree conditioned on items (Meat, Bread, Cheese)\n",
            "\r0 itemset(s) from tree conditioned on items (Meat, Bread, Milk)\n",
            "\r1 itemset(s) from tree conditioned on items (Meat, Milk)\n",
            "\r4 itemset(s) from tree conditioned on items (Eggs)\n",
            "\r0 itemset(s) from tree conditioned on items (Eggs, Cheese)\n",
            "\r1 itemset(s) from tree conditioned on items (Eggs, Meat)\n",
            "\r2 itemset(s) from tree conditioned on items (Eggs, Bread)\n",
            "\r0 itemset(s) from tree conditioned on items (Eggs, Bread, Cheese)\n",
            "\r0 itemset(s) from tree conditioned on items (Eggs, Bread, Milk)\n",
            "\r2 itemset(s) from tree conditioned on items (Eggs, Milk)\n",
            "\r0 itemset(s) from tree conditioned on items (Eggs, Milk, Cheese)\n",
            "\r1 itemset(s) from tree conditioned on items (Eggs, Milk, Meat)\n",
            "\r5 itemset(s) from tree conditioned on items (Wine)\n",
            "\r0 itemset(s) from tree conditioned on items (Wine, Cheese)\n",
            "\r1 itemset(s) from tree conditioned on items (Wine, Meat)\n",
            "\r2 itemset(s) from tree conditioned on items (Wine, Bread)\n",
            "\r0 itemset(s) from tree conditioned on items (Wine, Bread, Cheese)\n",
            "\r0 itemset(s) from tree conditioned on items (Wine, Bread, Meat)\n",
            "\r3 itemset(s) from tree conditioned on items (Wine, Eggs)\n",
            "\r0 itemset(s) from tree conditioned on items (Wine, Eggs, Cheese)\n",
            "\r1 itemset(s) from tree conditioned on items (Wine, Eggs, Meat)\n",
            "\r0 itemset(s) from tree conditioned on items (Wine, Eggs, Bread)\n",
            "\r4 itemset(s) from tree conditioned on items (Wine, Milk)\n",
            "\r0 itemset(s) from tree conditioned on items (Wine, Milk, Cheese)\n",
            "\r0 itemset(s) from tree conditioned on items (Wine, Milk, Bread)\n",
            "\r1 itemset(s) from tree conditioned on items (Wine, Milk, Meat)\n",
            "\r1 itemset(s) from tree conditioned on items (Wine, Milk, Eggs)\n",
            "\r7 itemset(s) from tree conditioned on items (Diaper)\n",
            "\r0 itemset(s) from tree conditioned on items (Diaper, Wine)\n",
            "\r1 itemset(s) from tree conditioned on items (Diaper, Bread)\n",
            "\r2 itemset(s) from tree conditioned on items (Diaper, Cheese)\n",
            "\r0 itemset(s) from tree conditioned on items (Diaper, Cheese, Bread)\n",
            "\r0 itemset(s) from tree conditioned on items (Diaper, Cheese, Wine)\n",
            "\r3 itemset(s) from tree conditioned on items (Diaper, Meat)\n",
            "\r0 itemset(s) from tree conditioned on items (Diaper, Meat, Wine)\n",
            "\r0 itemset(s) from tree conditioned on items (Diaper, Meat, Bread)\n",
            "\r0 itemset(s) from tree conditioned on items (Diaper, Meat, Cheese)\n",
            "\r2 itemset(s) from tree conditioned on items (Diaper, Eggs)\n",
            "\r0 itemset(s) from tree conditioned on items (Diaper, Eggs, Wine)\n",
            "\r0 itemset(s) from tree conditioned on items (Diaper, Eggs, Cheese)\n",
            "\r1 itemset(s) from tree conditioned on items (Diaper, Milk)\n",
            "\r4 itemset(s) from tree conditioned on items (Diaper, Bagel)\n",
            "\r0 itemset(s) from tree conditioned on items (Diaper, Bagel, Bread)\n",
            "\r0 itemset(s) from tree conditioned on items (Diaper, Bagel, Wine)\n",
            "\r0 itemset(s) from tree conditioned on items (Diaper, Bagel, Cheese)\n",
            "\r0 itemset(s) from tree conditioned on items (Diaper, Bagel, Meat)\n",
            "\r8 itemset(s) from tree conditioned on items (Pencil)\n",
            "\r0 itemset(s) from tree conditioned on items (Pencil, Wine)\n",
            "\r1 itemset(s) from tree conditioned on items (Pencil, Cheese)\n",
            "\r2 itemset(s) from tree conditioned on items (Pencil, Bread)\n",
            "\r0 itemset(s) from tree conditioned on items (Pencil, Bread, Cheese)\n",
            "\r0 itemset(s) from tree conditioned on items (Pencil, Bread, Wine)\n",
            "\r3 itemset(s) from tree conditioned on items (Pencil, Meat)\n",
            "\r0 itemset(s) from tree conditioned on items (Pencil, Meat, Wine)\n",
            "\r0 itemset(s) from tree conditioned on items (Pencil, Meat, Bread)\n",
            "\r0 itemset(s) from tree conditioned on items (Pencil, Meat, Cheese)\n",
            "\r2 itemset(s) from tree conditioned on items (Pencil, Diaper)\n",
            "\r0 itemset(s) from tree conditioned on items (Pencil, Diaper, Wine)\n",
            "\r0 itemset(s) from tree conditioned on items (Pencil, Diaper, Bread)\n",
            "\r2 itemset(s) from tree conditioned on items (Pencil, Eggs)\n",
            "\r0 itemset(s) from tree conditioned on items (Pencil, Eggs, Wine)\n",
            "\r0 itemset(s) from tree conditioned on items (Pencil, Eggs, Cheese)\n",
            "\r2 itemset(s) from tree conditioned on items (Pencil, Milk)\n",
            "\r0 itemset(s) from tree conditioned on items (Pencil, Milk, Bread)\n",
            "\r0 itemset(s) from tree conditioned on items (Pencil, Milk, Cheese)\n",
            "\r0 itemset(s) from tree conditioned on items (Pencil, Bagel)\n",
            "\r2 itemset(s) from tree conditioned on items (Milk)\n",
            "\r0 itemset(s) from tree conditioned on items (Milk, Cheese)\n",
            "\r1 itemset(s) from tree conditioned on items (Milk, Bread)\n",
            "\r6 itemset(s) from tree conditioned on items (Bagel)\n",
            "\r0 itemset(s) from tree conditioned on items (Bagel, Bread)\n",
            "\r1 itemset(s) from tree conditioned on items (Bagel, Milk)\n",
            "\r3 itemset(s) from tree conditioned on items (Bagel, Wine)\n",
            "\r0 itemset(s) from tree conditioned on items (Bagel, Wine, Bread)\n",
            "\r0 itemset(s) from tree conditioned on items (Bagel, Wine, Cheese)\n",
            "\r0 itemset(s) from tree conditioned on items (Bagel, Wine, Meat)\n",
            "\r0 itemset(s) from tree conditioned on items (Bagel, Eggs)\n",
            "\r1 itemset(s) from tree conditioned on items (Bagel, Cheese)\n",
            "\r2 itemset(s) from tree conditioned on items (Bagel, Meat)\n",
            "\r0 itemset(s) from tree conditioned on items (Bagel, Meat, Cheese)\n",
            "\r0 itemset(s) from tree conditioned on items (Bagel, Meat, Bread)\n",
            "FPGrowth time:  0.07419900000000013\n"
          ],
          "name": "stdout"
        },
        {
          "output_type": "stream",
          "text": [
            "/usr/local/lib/python3.7/dist-packages/ipykernel_launcher.py:1: DeprecationWarning: time.clock has been deprecated in Python 3.3 and will be removed from Python 3.8: use time.perf_counter or time.process_time instead\n",
            "  \"\"\"Entry point for launching an IPython kernel.\n",
            "/usr/local/lib/python3.7/dist-packages/ipykernel_launcher.py:3: DeprecationWarning: time.clock has been deprecated in Python 3.3 and will be removed from Python 3.8: use time.perf_counter or time.process_time instead\n",
            "  This is separate from the ipykernel package so we can avoid doing imports until\n"
          ],
          "name": "stderr"
        }
      ]
    },
    {
      "cell_type": "code",
      "metadata": {
        "id": "yg8yGXIihijO",
        "colab": {
          "base_uri": "https://localhost:8080/"
        },
        "outputId": "62ec7043-8a75-4568-c59c-92d15b174383"
      },
      "source": [
        "t0 = time.clock()\n",
        "getFPMaxRules(new_rules)\n",
        "t1 = time.clock() - t0\n",
        "print(\"FPMax time: \", t1) # CPU seconds elapsed (floating point)"
      ],
      "execution_count": 14,
      "outputs": [
        {
          "output_type": "stream",
          "text": [
            "/usr/local/lib/python3.7/dist-packages/ipykernel_launcher.py:1: DeprecationWarning: time.clock has been deprecated in Python 3.3 and will be removed from Python 3.8: use time.perf_counter or time.process_time instead\n",
            "  \"\"\"Entry point for launching an IPython kernel.\n"
          ],
          "name": "stderr"
        },
        {
          "output_type": "stream",
          "text": [
            "\r0 itemset(s) from tree conditioned on items ()\n",
            "\r0 itemset(s) from tree conditioned on items (Pencil)\n",
            "\r1 itemset(s) from tree conditioned on items (Pencil, Bagel)\n",
            "\r0 itemset(s) from tree conditioned on items (Pencil, Eggs)\n",
            "\r1 itemset(s) from tree conditioned on items (Pencil, Eggs, Cheese)\n",
            "\r1 itemset(s) from tree conditioned on items (Pencil, Eggs, Wine)\n",
            "\r0 itemset(s) from tree conditioned on items (Pencil, Diaper)\n",
            "\r1 itemset(s) from tree conditioned on items (Pencil, Diaper, Bread)\n",
            "\r1 itemset(s) from tree conditioned on items (Pencil, Diaper, Wine)\n",
            "\r0 itemset(s) from tree conditioned on items (Pencil, Milk)\n",
            "\r1 itemset(s) from tree conditioned on items (Pencil, Milk, Cheese)\n",
            "\r1 itemset(s) from tree conditioned on items (Pencil, Milk, Bread)\n",
            "\r0 itemset(s) from tree conditioned on items (Pencil, Meat)\n",
            "\r1 itemset(s) from tree conditioned on items (Pencil, Meat, Cheese)\n",
            "\r1 itemset(s) from tree conditioned on items (Pencil, Meat, Bread)\n",
            "\r1 itemset(s) from tree conditioned on items (Pencil, Meat, Wine)\n",
            "\r0 itemset(s) from tree conditioned on items (Pencil, Bread)\n",
            "\r1 itemset(s) from tree conditioned on items (Pencil, Bread, Wine)\n",
            "\r1 itemset(s) from tree conditioned on items (Pencil, Bread, Cheese)\n",
            "\r1 itemset(s) from tree conditioned on items (Pencil, Cheese)\n",
            "\r0 itemset(s) from tree conditioned on items (Diaper)\n",
            "\r1 itemset(s) from tree conditioned on items (Diaper, Milk)\n",
            "\r0 itemset(s) from tree conditioned on items (Diaper, Eggs)\n",
            "\r1 itemset(s) from tree conditioned on items (Diaper, Eggs, Cheese)\n",
            "\r1 itemset(s) from tree conditioned on items (Diaper, Eggs, Wine)\n",
            "\r0 itemset(s) from tree conditioned on items (Diaper, Bagel)\n",
            "\r1 itemset(s) from tree conditioned on items (Diaper, Bagel, Wine)\n",
            "\r1 itemset(s) from tree conditioned on items (Diaper, Bagel, Meat)\n",
            "\r1 itemset(s) from tree conditioned on items (Diaper, Bagel, Cheese)\n",
            "\r1 itemset(s) from tree conditioned on items (Diaper, Bagel, Bread)\n",
            "\r0 itemset(s) from tree conditioned on items (Diaper, Meat)\n",
            "\r1 itemset(s) from tree conditioned on items (Diaper, Meat, Cheese)\n",
            "\r1 itemset(s) from tree conditioned on items (Diaper, Meat, Bread)\n",
            "\r1 itemset(s) from tree conditioned on items (Diaper, Meat, Wine)\n",
            "\r0 itemset(s) from tree conditioned on items (Diaper, Cheese)\n",
            "\r1 itemset(s) from tree conditioned on items (Diaper, Cheese, Wine)\n",
            "\r1 itemset(s) from tree conditioned on items (Diaper, Cheese, Bread)\n",
            "\r1 itemset(s) from tree conditioned on items (Diaper, Bread)\n",
            "\r0 itemset(s) from tree conditioned on items (Bagel)\n",
            "\r1 itemset(s) from tree conditioned on items (Bagel, Eggs)\n",
            "\r0 itemset(s) from tree conditioned on items (Bagel, Wine)\n",
            "\r1 itemset(s) from tree conditioned on items (Bagel, Wine, Bread)\n",
            "\r1 itemset(s) from tree conditioned on items (Bagel, Wine, Meat)\n",
            "\r1 itemset(s) from tree conditioned on items (Bagel, Wine, Cheese)\n",
            "\r0 itemset(s) from tree conditioned on items (Bagel, Meat)\n",
            "\r1 itemset(s) from tree conditioned on items (Bagel, Meat, Bread)\n",
            "\r1 itemset(s) from tree conditioned on items (Bagel, Meat, Cheese)\n",
            "\r1 itemset(s) from tree conditioned on items (Bagel, Cheese)\n",
            "\r1 itemset(s) from tree conditioned on items (Bagel, Milk)\n",
            "\r0 itemset(s) from tree conditioned on items (Wine)\n",
            "\r0 itemset(s) from tree conditioned on items (Wine, Milk)\n",
            "\r1 itemset(s) from tree conditioned on items (Wine, Milk, Meat)\n",
            "\r1 itemset(s) from tree conditioned on items (Wine, Milk, Bread)\n",
            "\r1 itemset(s) from tree conditioned on items (Wine, Milk, Eggs)\n",
            "\r0 itemset(s) from tree conditioned on items (Wine, Eggs)\n",
            "\r1 itemset(s) from tree conditioned on items (Wine, Eggs, Bread)\n",
            "\r1 itemset(s) from tree conditioned on items (Wine, Eggs, Meat)\n",
            "\r0 itemset(s) from tree conditioned on items (Wine, Bread)\n",
            "\r1 itemset(s) from tree conditioned on items (Wine, Bread, Meat)\n",
            "\r1 itemset(s) from tree conditioned on items (Wine, Bread, Cheese)\n",
            "\r0 itemset(s) from tree conditioned on items (Eggs)\n",
            "\r0 itemset(s) from tree conditioned on items (Eggs, Bread)\n",
            "\r1 itemset(s) from tree conditioned on items (Eggs, Bread, Milk)\n",
            "\r1 itemset(s) from tree conditioned on items (Eggs, Bread, Cheese)\n",
            "\r0 itemset(s) from tree conditioned on items (Eggs, Milk)\n",
            "\r1 itemset(s) from tree conditioned on items (Eggs, Milk, Meat)\n",
            "\r0 itemset(s) from tree conditioned on items (Meat)\n",
            "\r0 itemset(s) from tree conditioned on items (Meat, Bread)\n",
            "\r1 itemset(s) from tree conditioned on items (Meat, Bread, Milk)\n",
            "\r1 itemset(s) from tree conditioned on items (Meat, Bread, Cheese)\n",
            "\r0 itemset(s) from tree conditioned on items (Milk)\n",
            "\r1 itemset(s) from tree conditioned on items (Milk, Bread)\n",
            "FPMax time:  0.07222799999999996\n"
          ],
          "name": "stdout"
        },
        {
          "output_type": "stream",
          "text": [
            "/usr/local/lib/python3.7/dist-packages/ipykernel_launcher.py:3: DeprecationWarning: time.clock has been deprecated in Python 3.3 and will be removed from Python 3.8: use time.perf_counter or time.process_time instead\n",
            "  This is separate from the ipykernel package so we can avoid doing imports until\n"
          ],
          "name": "stderr"
        }
      ]
    },
    {
      "cell_type": "code",
      "metadata": {
        "colab": {
          "base_uri": "https://localhost:8080/"
        },
        "id": "n4fO0LpbCE2h",
        "outputId": "603d7d88-5f54-4a05-8cf9-9ced9d8cd195"
      },
      "source": [
        "t0 = time.clock()\n",
        "getECLATRules(new_rules)\n",
        "t1 = time.clock() - t0\n",
        "print(\"ECLAT time: \", t1) # CPU seconds elapsed (floating point)"
      ],
      "execution_count": 15,
      "outputs": [
        {
          "output_type": "stream",
          "text": [
            "/usr/local/lib/python3.7/dist-packages/ipykernel_launcher.py:1: DeprecationWarning: time.clock has been deprecated in Python 3.3 and will be removed from Python 3.8: use time.perf_counter or time.process_time instead\n",
            "  \"\"\"Entry point for launching an IPython kernel.\n"
          ],
          "name": "stderr"
        },
        {
          "output_type": "stream",
          "text": [
            "ECLAT time:  0.08846299999999996\n"
          ],
          "name": "stdout"
        },
        {
          "output_type": "stream",
          "text": [
            "/usr/local/lib/python3.7/dist-packages/ipykernel_launcher.py:3: DeprecationWarning: time.clock has been deprecated in Python 3.3 and will be removed from Python 3.8: use time.perf_counter or time.process_time instead\n",
            "  This is separate from the ipykernel package so we can avoid doing imports until\n"
          ],
          "name": "stderr"
        }
      ]
    },
    {
      "cell_type": "code",
      "metadata": {
        "id": "UfSSyDLNTc8w"
      },
      "source": [
        "def getCommonRules(leftRules, rightRules):\n",
        "  commonRules = []\n",
        "  for leftSubList in leftRules:\n",
        "    leftSubList = sorted(leftSubList)\n",
        "    for rightSubList in rightRules:\n",
        "      if leftSubList == rightSubList:\n",
        "        if leftSubList not in commonRules:\n",
        "          commonRules.append(leftSubList)\n",
        "  \n",
        "  return commonRules"
      ],
      "execution_count": 25,
      "outputs": []
    },
    {
      "cell_type": "code",
      "metadata": {
        "id": "Dveqx7IXPOlq"
      },
      "source": [
        "import itertools\n",
        "\n",
        "def getAllRules(leftRules, rightRules):\n",
        "  wholeRules = []\n",
        "  new_left_rules = []\n",
        "  new_right_rules = []\n",
        "  for leftSubList in leftRules:\n",
        "    new_left_rules.append(sorted(leftSubList))\n",
        "  left_rules = list(new_left_rules for new_left_rules,_ in itertools.groupby(new_left_rules))\n",
        "  \n",
        "  wholeRules = left_rules\n",
        "\n",
        "  for rightSubList in rightRules:\n",
        "    new_right_rules.append(sorted(rightSubList))  \n",
        "  right_rules = list(new_right_rules for new_right_rules,_ in itertools.groupby(new_right_rules))\n",
        "\n",
        "  for rightSubList in right_rules:\n",
        "    if rightSubList not in wholeRules:\n",
        "      wholeRules.append(rightSubList)\n",
        "  \n",
        "  wholeRules = sorted(wholeRules)\n",
        "  return wholeRules"
      ],
      "execution_count": 60,
      "outputs": []
    },
    {
      "cell_type": "code",
      "metadata": {
        "id": "kFc9ql4wRY7y"
      },
      "source": [
        "def transform(df):\n",
        "  list_of_rules = []\n",
        "  for item in df:\n",
        "    intermediate_rules = []\n",
        "    intermediate_rules.append(next(iter(item[0])))\n",
        "    intermediate_rules.append(next(iter(item[1])))\n",
        "    list_of_rules.append(intermediate_rules)\n",
        "  return list_of_rules"
      ],
      "execution_count": 18,
      "outputs": []
    },
    {
      "cell_type": "code",
      "metadata": {
        "colab": {
          "base_uri": "https://localhost:8080/"
        },
        "id": "enrsoeKqQKjZ",
        "outputId": "7cb3e56e-3f3f-4621-c40c-bd2bafe4ded8"
      },
      "source": [
        "prepared_apriori_data = transform(getAprioriRules(new_rules).reset_index()[['antecedents', 'consequents']].values.tolist())\n",
        "prepared_fpgrowth_data = transform(getFPGrowthRules(new_rules).reset_index()[['antecedents', 'consequents']].values.tolist())\n",
        "prepared_fpmax_data = transform(getFPMaxRules(new_rules).reset_index()[['antecedents', 'consequents']].values.tolist())\n",
        "prepared_eclat_data = getECLATRules(new_rules)\n",
        "\n",
        "common_rules_app_growth = getCommonRules(prepared_apriori_data, prepared_fpgrowth_data)\n",
        "common_rules_max_eclat = getCommonRules(prepared_fpmax_data, prepared_eclat_data)\n",
        "common_rules = getCommonRules(common_rules_app_growth, common_rules_max_eclat)\n",
        "\n",
        "all_rules_app_growth = getAllRules(prepared_apriori_data, prepared_fpgrowth_data)\n",
        "all_rules_max_eclat = getAllRules(prepared_fpmax_data, prepared_eclat_data)\n",
        "all_rules = getAllRules(all_rules_app_growth, all_rules_max_eclat)"
      ],
      "execution_count": 61,
      "outputs": [
        {
          "output_type": "stream",
          "text": [
            "\r9 itemset(s) from tree conditioned on items ()\n",
            "\r0 itemset(s) from tree conditioned on items (Bread)\n",
            "\r1 itemset(s) from tree conditioned on items (Cheese)\n",
            "\r3 itemset(s) from tree conditioned on items (Meat)\n",
            "\r0 itemset(s) from tree conditioned on items (Meat, Cheese)\n",
            "\r2 itemset(s) from tree conditioned on items (Meat, Bread)\n",
            "\r0 itemset(s) from tree conditioned on items (Meat, Bread, Cheese)\n",
            "\r0 itemset(s) from tree conditioned on items (Meat, Bread, Milk)\n",
            "\r1 itemset(s) from tree conditioned on items (Meat, Milk)\n",
            "\r4 itemset(s) from tree conditioned on items (Eggs)\n",
            "\r0 itemset(s) from tree conditioned on items (Eggs, Cheese)\n",
            "\r1 itemset(s) from tree conditioned on items (Eggs, Meat)\n",
            "\r2 itemset(s) from tree conditioned on items (Eggs, Bread)\n",
            "\r0 itemset(s) from tree conditioned on items (Eggs, Bread, Cheese)\n",
            "\r0 itemset(s) from tree conditioned on items (Eggs, Bread, Milk)\n",
            "\r2 itemset(s) from tree conditioned on items (Eggs, Milk)\n",
            "\r0 itemset(s) from tree conditioned on items (Eggs, Milk, Cheese)\n",
            "\r1 itemset(s) from tree conditioned on items (Eggs, Milk, Meat)\n",
            "\r5 itemset(s) from tree conditioned on items (Wine)\n",
            "\r0 itemset(s) from tree conditioned on items (Wine, Cheese)\n",
            "\r1 itemset(s) from tree conditioned on items (Wine, Meat)\n",
            "\r2 itemset(s) from tree conditioned on items (Wine, Bread)\n",
            "\r0 itemset(s) from tree conditioned on items (Wine, Bread, Cheese)\n",
            "\r0 itemset(s) from tree conditioned on items (Wine, Bread, Meat)\n",
            "\r3 itemset(s) from tree conditioned on items (Wine, Eggs)\n",
            "\r0 itemset(s) from tree conditioned on items (Wine, Eggs, Cheese)\n",
            "\r1 itemset(s) from tree conditioned on items (Wine, Eggs, Meat)\n",
            "\r0 itemset(s) from tree conditioned on items (Wine, Eggs, Bread)\n",
            "\r4 itemset(s) from tree conditioned on items (Wine, Milk)\n",
            "\r0 itemset(s) from tree conditioned on items (Wine, Milk, Cheese)\n",
            "\r0 itemset(s) from tree conditioned on items (Wine, Milk, Bread)\n",
            "\r1 itemset(s) from tree conditioned on items (Wine, Milk, Meat)\n",
            "\r1 itemset(s) from tree conditioned on items (Wine, Milk, Eggs)\n",
            "\r7 itemset(s) from tree conditioned on items (Diaper)\n",
            "\r0 itemset(s) from tree conditioned on items (Diaper, Wine)\n",
            "\r1 itemset(s) from tree conditioned on items (Diaper, Bread)\n",
            "\r2 itemset(s) from tree conditioned on items (Diaper, Cheese)\n",
            "\r0 itemset(s) from tree conditioned on items (Diaper, Cheese, Bread)\n",
            "\r0 itemset(s) from tree conditioned on items (Diaper, Cheese, Wine)\n",
            "\r3 itemset(s) from tree conditioned on items (Diaper, Meat)\n",
            "\r0 itemset(s) from tree conditioned on items (Diaper, Meat, Wine)\n",
            "\r0 itemset(s) from tree conditioned on items (Diaper, Meat, Bread)\n",
            "\r0 itemset(s) from tree conditioned on items (Diaper, Meat, Cheese)\n",
            "\r2 itemset(s) from tree conditioned on items (Diaper, Eggs)\n",
            "\r0 itemset(s) from tree conditioned on items (Diaper, Eggs, Wine)\n",
            "\r0 itemset(s) from tree conditioned on items (Diaper, Eggs, Cheese)\n",
            "\r1 itemset(s) from tree conditioned on items (Diaper, Milk)\n",
            "\r4 itemset(s) from tree conditioned on items (Diaper, Bagel)\n",
            "\r0 itemset(s) from tree conditioned on items (Diaper, Bagel, Bread)\n",
            "\r0 itemset(s) from tree conditioned on items (Diaper, Bagel, Wine)\n",
            "\r0 itemset(s) from tree conditioned on items (Diaper, Bagel, Cheese)\n",
            "\r0 itemset(s) from tree conditioned on items (Diaper, Bagel, Meat)\n",
            "\r8 itemset(s) from tree conditioned on items (Pencil)\n",
            "\r0 itemset(s) from tree conditioned on items (Pencil, Wine)\n",
            "\r1 itemset(s) from tree conditioned on items (Pencil, Cheese)\n",
            "\r2 itemset(s) from tree conditioned on items (Pencil, Bread)\n",
            "\r0 itemset(s) from tree conditioned on items (Pencil, Bread, Cheese)\n",
            "\r0 itemset(s) from tree conditioned on items (Pencil, Bread, Wine)\n",
            "\r3 itemset(s) from tree conditioned on items (Pencil, Meat)\n",
            "\r0 itemset(s) from tree conditioned on items (Pencil, Meat, Wine)\n",
            "\r0 itemset(s) from tree conditioned on items (Pencil, Meat, Bread)\n",
            "\r0 itemset(s) from tree conditioned on items (Pencil, Meat, Cheese)\n",
            "\r2 itemset(s) from tree conditioned on items (Pencil, Diaper)\n",
            "\r0 itemset(s) from tree conditioned on items (Pencil, Diaper, Wine)\n",
            "\r0 itemset(s) from tree conditioned on items (Pencil, Diaper, Bread)\n",
            "\r2 itemset(s) from tree conditioned on items (Pencil, Eggs)\n",
            "\r0 itemset(s) from tree conditioned on items (Pencil, Eggs, Wine)\n",
            "\r0 itemset(s) from tree conditioned on items (Pencil, Eggs, Cheese)\n",
            "\r2 itemset(s) from tree conditioned on items (Pencil, Milk)\n",
            "\r0 itemset(s) from tree conditioned on items (Pencil, Milk, Bread)\n",
            "\r0 itemset(s) from tree conditioned on items (Pencil, Milk, Cheese)\n",
            "\r0 itemset(s) from tree conditioned on items (Pencil, Bagel)\n",
            "\r2 itemset(s) from tree conditioned on items (Milk)\n",
            "\r0 itemset(s) from tree conditioned on items (Milk, Cheese)\n",
            "\r1 itemset(s) from tree conditioned on items (Milk, Bread)\n",
            "\r6 itemset(s) from tree conditioned on items (Bagel)\n",
            "\r0 itemset(s) from tree conditioned on items (Bagel, Bread)\n",
            "\r1 itemset(s) from tree conditioned on items (Bagel, Milk)\n",
            "\r3 itemset(s) from tree conditioned on items (Bagel, Wine)\n",
            "\r0 itemset(s) from tree conditioned on items (Bagel, Wine, Bread)\n",
            "\r0 itemset(s) from tree conditioned on items (Bagel, Wine, Cheese)\n",
            "\r0 itemset(s) from tree conditioned on items (Bagel, Wine, Meat)\n",
            "\r0 itemset(s) from tree conditioned on items (Bagel, Eggs)\n",
            "\r1 itemset(s) from tree conditioned on items (Bagel, Cheese)\n",
            "\r2 itemset(s) from tree conditioned on items (Bagel, Meat)\n",
            "\r0 itemset(s) from tree conditioned on items (Bagel, Meat, Cheese)\n",
            "\r0 itemset(s) from tree conditioned on items (Bagel, Meat, Bread)\n",
            "\r0 itemset(s) from tree conditioned on items ()\n",
            "\r0 itemset(s) from tree conditioned on items (Pencil)\n",
            "\r1 itemset(s) from tree conditioned on items (Pencil, Bagel)\n",
            "\r0 itemset(s) from tree conditioned on items (Pencil, Eggs)\n",
            "\r1 itemset(s) from tree conditioned on items (Pencil, Eggs, Cheese)\n",
            "\r1 itemset(s) from tree conditioned on items (Pencil, Eggs, Wine)\n",
            "\r0 itemset(s) from tree conditioned on items (Pencil, Diaper)\n",
            "\r1 itemset(s) from tree conditioned on items (Pencil, Diaper, Bread)\n",
            "\r1 itemset(s) from tree conditioned on items (Pencil, Diaper, Wine)\n",
            "\r0 itemset(s) from tree conditioned on items (Pencil, Milk)\n",
            "\r1 itemset(s) from tree conditioned on items (Pencil, Milk, Cheese)\n",
            "\r1 itemset(s) from tree conditioned on items (Pencil, Milk, Bread)\n",
            "\r0 itemset(s) from tree conditioned on items (Pencil, Meat)\n",
            "\r1 itemset(s) from tree conditioned on items (Pencil, Meat, Cheese)\n",
            "\r1 itemset(s) from tree conditioned on items (Pencil, Meat, Bread)\n",
            "\r1 itemset(s) from tree conditioned on items (Pencil, Meat, Wine)\n",
            "\r0 itemset(s) from tree conditioned on items (Pencil, Bread)\n",
            "\r1 itemset(s) from tree conditioned on items (Pencil, Bread, Wine)\n",
            "\r1 itemset(s) from tree conditioned on items (Pencil, Bread, Cheese)\n",
            "\r1 itemset(s) from tree conditioned on items (Pencil, Cheese)\n",
            "\r0 itemset(s) from tree conditioned on items (Diaper)\n",
            "\r1 itemset(s) from tree conditioned on items (Diaper, Milk)\n",
            "\r0 itemset(s) from tree conditioned on items (Diaper, Eggs)\n",
            "\r1 itemset(s) from tree conditioned on items (Diaper, Eggs, Cheese)\n",
            "\r1 itemset(s) from tree conditioned on items (Diaper, Eggs, Wine)\n",
            "\r0 itemset(s) from tree conditioned on items (Diaper, Bagel)\n",
            "\r1 itemset(s) from tree conditioned on items (Diaper, Bagel, Wine)\n",
            "\r1 itemset(s) from tree conditioned on items (Diaper, Bagel, Meat)\n",
            "\r1 itemset(s) from tree conditioned on items (Diaper, Bagel, Cheese)\n",
            "\r1 itemset(s) from tree conditioned on items (Diaper, Bagel, Bread)\n",
            "\r0 itemset(s) from tree conditioned on items (Diaper, Meat)\n",
            "\r1 itemset(s) from tree conditioned on items (Diaper, Meat, Cheese)\n",
            "\r1 itemset(s) from tree conditioned on items (Diaper, Meat, Bread)\n",
            "\r1 itemset(s) from tree conditioned on items (Diaper, Meat, Wine)\n",
            "\r0 itemset(s) from tree conditioned on items (Diaper, Cheese)\n",
            "\r1 itemset(s) from tree conditioned on items (Diaper, Cheese, Wine)\n",
            "\r1 itemset(s) from tree conditioned on items (Diaper, Cheese, Bread)\n",
            "\r1 itemset(s) from tree conditioned on items (Diaper, Bread)\n",
            "\r0 itemset(s) from tree conditioned on items (Bagel)\n",
            "\r1 itemset(s) from tree conditioned on items (Bagel, Eggs)\n",
            "\r0 itemset(s) from tree conditioned on items (Bagel, Wine)\n",
            "\r1 itemset(s) from tree conditioned on items (Bagel, Wine, Bread)\n",
            "\r1 itemset(s) from tree conditioned on items (Bagel, Wine, Meat)\n",
            "\r1 itemset(s) from tree conditioned on items (Bagel, Wine, Cheese)\n",
            "\r0 itemset(s) from tree conditioned on items (Bagel, Meat)\n",
            "\r1 itemset(s) from tree conditioned on items (Bagel, Meat, Bread)\n",
            "\r1 itemset(s) from tree conditioned on items (Bagel, Meat, Cheese)\n",
            "\r1 itemset(s) from tree conditioned on items (Bagel, Cheese)\n",
            "\r1 itemset(s) from tree conditioned on items (Bagel, Milk)\n",
            "\r0 itemset(s) from tree conditioned on items (Wine)\n",
            "\r0 itemset(s) from tree conditioned on items (Wine, Milk)\n",
            "\r1 itemset(s) from tree conditioned on items (Wine, Milk, Meat)\n",
            "\r1 itemset(s) from tree conditioned on items (Wine, Milk, Bread)\n",
            "\r1 itemset(s) from tree conditioned on items (Wine, Milk, Eggs)\n",
            "\r0 itemset(s) from tree conditioned on items (Wine, Eggs)\n",
            "\r1 itemset(s) from tree conditioned on items (Wine, Eggs, Bread)\n",
            "\r1 itemset(s) from tree conditioned on items (Wine, Eggs, Meat)\n",
            "\r0 itemset(s) from tree conditioned on items (Wine, Bread)\n",
            "\r1 itemset(s) from tree conditioned on items (Wine, Bread, Meat)\n",
            "\r1 itemset(s) from tree conditioned on items (Wine, Bread, Cheese)\n",
            "\r0 itemset(s) from tree conditioned on items (Eggs)\n",
            "\r0 itemset(s) from tree conditioned on items (Eggs, Bread)\n",
            "\r1 itemset(s) from tree conditioned on items (Eggs, Bread, Milk)\n",
            "\r1 itemset(s) from tree conditioned on items (Eggs, Bread, Cheese)\n",
            "\r0 itemset(s) from tree conditioned on items (Eggs, Milk)\n",
            "\r1 itemset(s) from tree conditioned on items (Eggs, Milk, Meat)\n",
            "\r0 itemset(s) from tree conditioned on items (Meat)\n",
            "\r0 itemset(s) from tree conditioned on items (Meat, Bread)\n",
            "\r1 itemset(s) from tree conditioned on items (Meat, Bread, Milk)\n",
            "\r1 itemset(s) from tree conditioned on items (Meat, Bread, Cheese)\n",
            "\r0 itemset(s) from tree conditioned on items (Milk)\n",
            "\r1 itemset(s) from tree conditioned on items (Milk, Bread)\n"
          ],
          "name": "stdout"
        }
      ]
    },
    {
      "cell_type": "code",
      "metadata": {
        "colab": {
          "base_uri": "https://localhost:8080/"
        },
        "id": "rBepGz1Peq-y",
        "outputId": "5bb30342-89d9-4f86-db8d-3b135c94ad90"
      },
      "source": [
        "len(common_rules)"
      ],
      "execution_count": 63,
      "outputs": [
        {
          "output_type": "execute_result",
          "data": {
            "text/plain": [
              "13"
            ]
          },
          "metadata": {
            "tags": []
          },
          "execution_count": 63
        }
      ]
    },
    {
      "cell_type": "code",
      "metadata": {
        "id": "2JP2G7bIxxNu",
        "colab": {
          "base_uri": "https://localhost:8080/"
        },
        "outputId": "ba76e524-9e9e-40c9-c53a-0da4db8c128f"
      },
      "source": [
        "len(all_rules)"
      ],
      "execution_count": 64,
      "outputs": [
        {
          "output_type": "execute_result",
          "data": {
            "text/plain": [
              "87"
            ]
          },
          "metadata": {
            "tags": []
          },
          "execution_count": 64
        }
      ]
    }
  ]
}